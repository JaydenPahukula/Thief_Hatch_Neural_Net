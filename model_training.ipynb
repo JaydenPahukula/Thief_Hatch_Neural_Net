{
 "cells": [
  {
   "attachments": {},
   "cell_type": "markdown",
   "metadata": {},
   "source": [
    "## Model Training\n",
    "#### (Use this notebook to train the neural network)"
   ]
  },
  {
   "cell_type": "code",
   "execution_count": 32,
   "metadata": {},
   "outputs": [],
   "source": [
    "import pandas as pd \n",
    "import numpy as np\n",
    "from datetime import datetime, timedelta\n",
    "from glob import glob \n",
    "import tensorflow as tf\n",
    "from keras import Input, Model\n",
    "from keras.layers import Dense\n",
    "import plotly.express as px"
   ]
  },
  {
   "cell_type": "code",
   "execution_count": 33,
   "metadata": {},
   "outputs": [
    {
     "name": "stdout",
     "output_type": "stream",
     "text": [
      "<class 'pandas.core.frame.DataFrame'>\n",
      "Int64Index: 2246256 entries, 0 to 246255\n",
      "Data columns (total 3 columns):\n",
      " #   Column        Dtype         \n",
      "---  ------        -----         \n",
      " 0   timestamp     datetime64[ns]\n",
      " 1   FACILITY_ID   int64         \n",
      " 2   pressure_osi  float64       \n",
      "dtypes: datetime64[ns](1), float64(1), int64(1)\n",
      "memory usage: 68.6 MB\n"
     ]
    }
   ],
   "source": [
    "#get pressure data\n",
    "df = []\n",
    "for f in glob('data/tank_header_pressure_*.csv'):\n",
    "    df.append(pd.read_csv(f))\n",
    "\n",
    "df = pd.concat(df)\n",
    "df.drop(columns=[\"TagType\"], inplace=True)\n",
    "df.timestamp = pd.to_datetime(df.timestamp)\n",
    "df.info()"
   ]
  },
  {
   "cell_type": "code",
   "execution_count": 34,
   "metadata": {},
   "outputs": [],
   "source": [
    "# known data to build training set from\n",
    "knowns = [\n",
    "    (10085460,\"2022-07-05 15:14:00\",\"2022-08-25 21:14:00\"),\n",
    "    (10085941,\"2021-10-19 22:42:00\",\"2021-10-28 14:57:00\"),\n",
    "    (10085510,\"2022-02-14 16:43:21\",\"2022-05-13 15:28:13\"),\n",
    "    (10086098,\"2022-07-24 21:12:00\",\"2022-09-21 16:57:54\"),\n",
    "    (10085544,\"2022-10-13 20:40:25\",\"2022-11-27 16:55:24\"),\n",
    "    (10111756,\"2022-11-12 12:00:00\",\"2023-02-23 12:00:00\"),\n",
    "    (10085464,\"2022-10-13 00:00:01\",\"2022-10-13 00:00:00\"),\n",
    "    (10085694,\"2022-10-13 00:00:01\",\"2022-11-27 00:00:00\"),\n",
    "    (10086083,\"2022-11-23 18:20:01\",\"2022-12-09 06:13:49\")\n",
    "]"
   ]
  },
  {
   "cell_type": "code",
   "execution_count": 35,
   "metadata": {},
   "outputs": [
    {
     "name": "stdout",
     "output_type": "stream",
     "text": [
      "<class 'pandas.core.frame.DataFrame'>\n",
      "Int64Index: 15721 entries, 0 to 15803\n",
      "Data columns (total 5 columns):\n",
      " #   Column        Non-Null Count  Dtype  \n",
      "---  ------        --------------  -----  \n",
      " 0   isOpen        15721 non-null  bool   \n",
      " 1   facilityMean  15721 non-null  float64\n",
      " 2   facilitySTD   15721 non-null  float64\n",
      " 3   localMean     15721 non-null  float64\n",
      " 4   localSTD      15721 non-null  float64\n",
      "dtypes: bool(1), float64(4)\n",
      "memory usage: 629.5 KB\n"
     ]
    }
   ],
   "source": [
    "#build training dataframe\n",
    "COLUMNS = [\"isOpen\", \"facilityMean\", \"facilitySTD\", \"localMean\", \"localSTD\"]\n",
    "\n",
    "all_data = []\n",
    "for (facility_id, open, closed) in knowns:\n",
    "    #filter dataframe by specific facility id\n",
    "    df_facility = df[df.FACILITY_ID == facility_id].copy()\n",
    "    #time the hatch was opened and closed\n",
    "    timeOpen = pd.to_datetime(pd.Timestamp(open))\n",
    "    timeClosed = pd.to_datetime(pd.Timestamp(closed))\n",
    "    #get facility info\n",
    "    facilityMean = df_facility[\"pressure_osi\"].mean()\n",
    "    facilitySTD = df_facility[\"pressure_osi\"].std()\n",
    "    #time to start getting data\n",
    "    tStart = df_facility[\"timestamp\"].min().round(\"4H\") + timedelta(days=2)\n",
    "    tEnd = df_facility[\"timestamp\"].max().round(\"4H\")\n",
    "    #how often to add a new datapoint\n",
    "    tFreq = timedelta(hours=4)\n",
    "\n",
    "    t = tStart\n",
    "    while t < tEnd:\n",
    "        #get local info\n",
    "        isOpen = timeOpen < t and t < timeClosed\n",
    "        dfLocal = df_facility[(df_facility.timestamp > t-timedelta(days=2))&\n",
    "                              (df_facility.timestamp < t)]\n",
    "        localMean = dfLocal[\"pressure_osi\"].mean()\n",
    "        localSTD = dfLocal[\"pressure_osi\"].std()\n",
    "\n",
    "        #append datapoint\n",
    "        all_data.append((isOpen, facilityMean, facilitySTD, localMean, localSTD))\n",
    "\n",
    "        t += tFreq\n",
    "\n",
    "#convert the list of datapoints to a dataframe\n",
    "df_all_data = pd.DataFrame(all_data, columns=COLUMNS)\n",
    "#drop any rows with a NaN\n",
    "df_all_data.dropna(inplace=True)\n",
    "\n",
    "df_all_data.info()"
   ]
  },
  {
   "cell_type": "code",
   "execution_count": 36,
   "metadata": {},
   "outputs": [
    {
     "data": {
      "text/plain": [
       "<TensorSliceDataset element_spec=(TensorSpec(shape=(4,), dtype=tf.float64, name=None), TensorSpec(shape=(), dtype=tf.bool, name=None))>"
      ]
     },
     "execution_count": 36,
     "metadata": {},
     "output_type": "execute_result"
    }
   ],
   "source": [
    "#convert the dataframe to a tensorflow dataset\n",
    "text = df_all_data[COLUMNS[1:]]\n",
    "targets = df_all_data[COLUMNS[0]]\n",
    "dataset_all = tf.data.Dataset.from_tensor_slices((text, targets))\n",
    "dataset_all"
   ]
  },
  {
   "cell_type": "code",
   "execution_count": 37,
   "metadata": {},
   "outputs": [
    {
     "name": "stdout",
     "output_type": "stream",
     "text": [
      "Training set: <BatchDataset element_spec=(TensorSpec(shape=(None, 4), dtype=tf.float64, name=None), TensorSpec(shape=(None,), dtype=tf.bool, name=None))>\n",
      "Training set size: 1573\n",
      "Validation set: <BatchDataset element_spec=(TensorSpec(shape=(None, 4), dtype=tf.float64, name=None), TensorSpec(shape=(None,), dtype=tf.bool, name=None))>\n",
      "Validation set size: 393\n"
     ]
    }
   ],
   "source": [
    "VALIDATION_SET_SIZE = 0.2\n",
    "BATCH_SIZE = 8\n",
    "LEN = len(dataset_all)\n",
    "\n",
    "#shuffle dataset\n",
    "dataset_all = dataset_all.shuffle(LEN)\n",
    "\n",
    "#split dataset into training and validation datasets\n",
    "split = int(LEN * VALIDATION_SET_SIZE)\n",
    "dataset_training = dataset_all.skip(split).take(LEN-split)\n",
    "dataset_validation = dataset_all.take(split)\n",
    "\n",
    "#batch datasets\n",
    "dataset_training = dataset_training.batch(BATCH_SIZE)\n",
    "dataset_validation = dataset_validation.batch(BATCH_SIZE)\n",
    "\n",
    "print(\"Training set:\", dataset_training)\n",
    "print(\"Training set size:\", len(dataset_training))\n",
    "print(\"Validation set:\", dataset_validation)\n",
    "print(\"Validation set size:\", len(dataset_validation))"
   ]
  },
  {
   "cell_type": "code",
   "execution_count": 38,
   "metadata": {},
   "outputs": [],
   "source": [
    "#function used to determine model accuracy (lower is better)\n",
    "def test(true, pred):\n",
    "    #diff is the exact difference between true and predicted\n",
    "    true = tf.cast(true, float)\n",
    "    diff = tf.subtract(true, pred)\n",
    "    diff = tf.abs(diff)\n",
    "    #incentive punishes the model for false negative\n",
    "    incentive = tf.subtract(true, pred)\n",
    "    incentive = tf.multiply(incentive, true)\n",
    "    incentive = tf.multiply(incentive, 5)\n",
    "    diff = tf.add(diff, incentive)\n",
    "    return diff"
   ]
  },
  {
   "cell_type": "code",
   "execution_count": 39,
   "metadata": {},
   "outputs": [
    {
     "name": "stdout",
     "output_type": "stream",
     "text": [
      "Model: \"model\"\n",
      "_________________________________________________________________\n",
      " Layer (type)                Output Shape              Param #   \n",
      "=================================================================\n",
      " input_1 (InputLayer)        [(None, 4)]               0         \n",
      "                                                                 \n",
      " dense (Dense)               (None, 8)                 40        \n",
      "                                                                 \n",
      " dense_1 (Dense)             (None, 1)                 9         \n",
      "                                                                 \n",
      "=================================================================\n",
      "Total params: 49\n",
      "Trainable params: 49\n",
      "Non-trainable params: 0\n",
      "_________________________________________________________________\n"
     ]
    }
   ],
   "source": [
    "tf.keras.backend.clear_session()\n",
    "\n",
    "#set up the neural network\n",
    "inputs = Input(shape=(4,))\n",
    "x = Dense(8)(inputs)\n",
    "outputs = Dense(1, activation=\"sigmoid\")(x)\n",
    "\n",
    "model = Model(inputs, outputs)\n",
    "\n",
    "#compile the neural network\n",
    "model.compile(optimizer=tf.keras.optimizers.RMSprop(learning_rate=0.0001), loss=test)\n",
    "model.summary()"
   ]
  },
  {
   "cell_type": "code",
   "execution_count": 40,
   "metadata": {},
   "outputs": [
    {
     "name": "stdout",
     "output_type": "stream",
     "text": [
      "Epoch 1/20\n",
      "1573/1573 [==============================] - 3s 2ms/step - loss: 0.8249 - val_loss: 0.7760\n",
      "Epoch 2/20\n",
      "1573/1573 [==============================] - 4s 2ms/step - loss: 0.7693 - val_loss: 0.7357\n",
      "Epoch 3/20\n",
      "1573/1573 [==============================] - 2s 1ms/step - loss: 0.7144 - val_loss: 0.7022\n",
      "Epoch 4/20\n",
      "1573/1573 [==============================] - 2s 1ms/step - loss: 0.6571 - val_loss: 0.6116\n",
      "Epoch 5/20\n",
      "1573/1573 [==============================] - 1s 903us/step - loss: 0.6114 - val_loss: 0.5849\n",
      "Epoch 6/20\n",
      "1573/1573 [==============================] - 1s 931us/step - loss: 0.5712 - val_loss: 0.5779\n",
      "Epoch 7/20\n",
      "1573/1573 [==============================] - 1s 933us/step - loss: 0.5334 - val_loss: 0.4967\n",
      "Epoch 8/20\n",
      "1573/1573 [==============================] - 2s 951us/step - loss: 0.4931 - val_loss: 0.4734\n",
      "Epoch 9/20\n",
      "1573/1573 [==============================] - 1s 902us/step - loss: 0.4696 - val_loss: 0.4387\n",
      "Epoch 10/20\n",
      "1573/1573 [==============================] - 1s 891us/step - loss: 0.4405 - val_loss: 0.4248\n",
      "Epoch 11/20\n",
      "1573/1573 [==============================] - 1s 937us/step - loss: 0.4229 - val_loss: 0.4289\n",
      "Epoch 12/20\n",
      "1573/1573 [==============================] - 1s 912us/step - loss: 0.4079 - val_loss: 0.3887\n",
      "Epoch 13/20\n",
      "1573/1573 [==============================] - 1s 890us/step - loss: 0.4007 - val_loss: 0.4000\n",
      "Epoch 14/20\n",
      "1573/1573 [==============================] - 1s 915us/step - loss: 0.3869 - val_loss: 0.3664\n",
      "Epoch 15/20\n",
      "1573/1573 [==============================] - 1s 908us/step - loss: 0.3730 - val_loss: 0.3656\n",
      "Epoch 16/20\n",
      "1573/1573 [==============================] - 1s 925us/step - loss: 0.3675 - val_loss: 0.3555\n",
      "Epoch 17/20\n",
      "1573/1573 [==============================] - 1s 931us/step - loss: 0.3658 - val_loss: 0.3623\n",
      "Epoch 18/20\n",
      "1573/1573 [==============================] - 2s 1ms/step - loss: 0.3586 - val_loss: 0.3561\n",
      "Epoch 19/20\n",
      "1573/1573 [==============================] - 2s 1ms/step - loss: 0.3515 - val_loss: 0.3671\n",
      "Epoch 20/20\n",
      "1573/1573 [==============================] - 2s 1ms/step - loss: 0.3486 - val_loss: 0.3510\n"
     ]
    },
    {
     "data": {
      "application/vnd.plotly.v1+json": {
       "config": {
        "plotlyServerURL": "https://plot.ly"
       },
       "data": [
        {
         "hovertemplate": "variable=loss<br>epoch=%{x}<br>test() score=%{y}<extra></extra>",
         "legendgroup": "loss",
         "line": {
          "color": "#636efa",
          "dash": "solid"
         },
         "marker": {
          "symbol": "circle"
         },
         "mode": "lines",
         "name": "loss",
         "orientation": "v",
         "showlegend": true,
         "type": "scatter",
         "x": [
          0,
          1,
          2,
          3,
          4,
          5,
          6,
          7,
          8,
          9,
          10,
          11,
          12,
          13,
          14,
          15,
          16,
          17,
          18,
          19
         ],
         "xaxis": "x",
         "y": [
          0.8248597979545593,
          0.7693241834640503,
          0.7144431471824646,
          0.6570608615875244,
          0.6113876700401306,
          0.571164608001709,
          0.5334426164627075,
          0.49312227964401245,
          0.4696182310581207,
          0.4404788911342621,
          0.42292943596839905,
          0.4079250693321228,
          0.40067020058631897,
          0.3868872821331024,
          0.37302958965301514,
          0.36750197410583496,
          0.36583760380744934,
          0.3586001396179199,
          0.35148730874061584,
          0.3485679626464844
         ],
         "yaxis": "y"
        },
        {
         "hovertemplate": "variable=val_loss<br>epoch=%{x}<br>test() score=%{y}<extra></extra>",
         "legendgroup": "val_loss",
         "line": {
          "color": "#EF553B",
          "dash": "solid"
         },
         "marker": {
          "symbol": "circle"
         },
         "mode": "lines",
         "name": "val_loss",
         "orientation": "v",
         "showlegend": true,
         "type": "scatter",
         "x": [
          0,
          1,
          2,
          3,
          4,
          5,
          6,
          7,
          8,
          9,
          10,
          11,
          12,
          13,
          14,
          15,
          16,
          17,
          18,
          19
         ],
         "xaxis": "x",
         "y": [
          0.7760348916053772,
          0.7357457280158997,
          0.7022038102149963,
          0.611616849899292,
          0.5849384665489197,
          0.5778946876525879,
          0.4966631829738617,
          0.47337237000465393,
          0.43867823481559753,
          0.424789696931839,
          0.4289436638355255,
          0.388709157705307,
          0.3999673128128052,
          0.3664419949054718,
          0.36556336283683777,
          0.35550016164779663,
          0.3622673749923706,
          0.3561098277568817,
          0.36709997057914734,
          0.3510054051876068
         ],
         "yaxis": "y"
        }
       ],
       "layout": {
        "legend": {
         "title": {
          "text": "variable"
         },
         "tracegroupgap": 0
        },
        "template": {
         "data": {
          "bar": [
           {
            "error_x": {
             "color": "#2a3f5f"
            },
            "error_y": {
             "color": "#2a3f5f"
            },
            "marker": {
             "line": {
              "color": "#E5ECF6",
              "width": 0.5
             },
             "pattern": {
              "fillmode": "overlay",
              "size": 10,
              "solidity": 0.2
             }
            },
            "type": "bar"
           }
          ],
          "barpolar": [
           {
            "marker": {
             "line": {
              "color": "#E5ECF6",
              "width": 0.5
             },
             "pattern": {
              "fillmode": "overlay",
              "size": 10,
              "solidity": 0.2
             }
            },
            "type": "barpolar"
           }
          ],
          "carpet": [
           {
            "aaxis": {
             "endlinecolor": "#2a3f5f",
             "gridcolor": "white",
             "linecolor": "white",
             "minorgridcolor": "white",
             "startlinecolor": "#2a3f5f"
            },
            "baxis": {
             "endlinecolor": "#2a3f5f",
             "gridcolor": "white",
             "linecolor": "white",
             "minorgridcolor": "white",
             "startlinecolor": "#2a3f5f"
            },
            "type": "carpet"
           }
          ],
          "choropleth": [
           {
            "colorbar": {
             "outlinewidth": 0,
             "ticks": ""
            },
            "type": "choropleth"
           }
          ],
          "contour": [
           {
            "colorbar": {
             "outlinewidth": 0,
             "ticks": ""
            },
            "colorscale": [
             [
              0,
              "#0d0887"
             ],
             [
              0.1111111111111111,
              "#46039f"
             ],
             [
              0.2222222222222222,
              "#7201a8"
             ],
             [
              0.3333333333333333,
              "#9c179e"
             ],
             [
              0.4444444444444444,
              "#bd3786"
             ],
             [
              0.5555555555555556,
              "#d8576b"
             ],
             [
              0.6666666666666666,
              "#ed7953"
             ],
             [
              0.7777777777777778,
              "#fb9f3a"
             ],
             [
              0.8888888888888888,
              "#fdca26"
             ],
             [
              1,
              "#f0f921"
             ]
            ],
            "type": "contour"
           }
          ],
          "contourcarpet": [
           {
            "colorbar": {
             "outlinewidth": 0,
             "ticks": ""
            },
            "type": "contourcarpet"
           }
          ],
          "heatmap": [
           {
            "colorbar": {
             "outlinewidth": 0,
             "ticks": ""
            },
            "colorscale": [
             [
              0,
              "#0d0887"
             ],
             [
              0.1111111111111111,
              "#46039f"
             ],
             [
              0.2222222222222222,
              "#7201a8"
             ],
             [
              0.3333333333333333,
              "#9c179e"
             ],
             [
              0.4444444444444444,
              "#bd3786"
             ],
             [
              0.5555555555555556,
              "#d8576b"
             ],
             [
              0.6666666666666666,
              "#ed7953"
             ],
             [
              0.7777777777777778,
              "#fb9f3a"
             ],
             [
              0.8888888888888888,
              "#fdca26"
             ],
             [
              1,
              "#f0f921"
             ]
            ],
            "type": "heatmap"
           }
          ],
          "heatmapgl": [
           {
            "colorbar": {
             "outlinewidth": 0,
             "ticks": ""
            },
            "colorscale": [
             [
              0,
              "#0d0887"
             ],
             [
              0.1111111111111111,
              "#46039f"
             ],
             [
              0.2222222222222222,
              "#7201a8"
             ],
             [
              0.3333333333333333,
              "#9c179e"
             ],
             [
              0.4444444444444444,
              "#bd3786"
             ],
             [
              0.5555555555555556,
              "#d8576b"
             ],
             [
              0.6666666666666666,
              "#ed7953"
             ],
             [
              0.7777777777777778,
              "#fb9f3a"
             ],
             [
              0.8888888888888888,
              "#fdca26"
             ],
             [
              1,
              "#f0f921"
             ]
            ],
            "type": "heatmapgl"
           }
          ],
          "histogram": [
           {
            "marker": {
             "pattern": {
              "fillmode": "overlay",
              "size": 10,
              "solidity": 0.2
             }
            },
            "type": "histogram"
           }
          ],
          "histogram2d": [
           {
            "colorbar": {
             "outlinewidth": 0,
             "ticks": ""
            },
            "colorscale": [
             [
              0,
              "#0d0887"
             ],
             [
              0.1111111111111111,
              "#46039f"
             ],
             [
              0.2222222222222222,
              "#7201a8"
             ],
             [
              0.3333333333333333,
              "#9c179e"
             ],
             [
              0.4444444444444444,
              "#bd3786"
             ],
             [
              0.5555555555555556,
              "#d8576b"
             ],
             [
              0.6666666666666666,
              "#ed7953"
             ],
             [
              0.7777777777777778,
              "#fb9f3a"
             ],
             [
              0.8888888888888888,
              "#fdca26"
             ],
             [
              1,
              "#f0f921"
             ]
            ],
            "type": "histogram2d"
           }
          ],
          "histogram2dcontour": [
           {
            "colorbar": {
             "outlinewidth": 0,
             "ticks": ""
            },
            "colorscale": [
             [
              0,
              "#0d0887"
             ],
             [
              0.1111111111111111,
              "#46039f"
             ],
             [
              0.2222222222222222,
              "#7201a8"
             ],
             [
              0.3333333333333333,
              "#9c179e"
             ],
             [
              0.4444444444444444,
              "#bd3786"
             ],
             [
              0.5555555555555556,
              "#d8576b"
             ],
             [
              0.6666666666666666,
              "#ed7953"
             ],
             [
              0.7777777777777778,
              "#fb9f3a"
             ],
             [
              0.8888888888888888,
              "#fdca26"
             ],
             [
              1,
              "#f0f921"
             ]
            ],
            "type": "histogram2dcontour"
           }
          ],
          "mesh3d": [
           {
            "colorbar": {
             "outlinewidth": 0,
             "ticks": ""
            },
            "type": "mesh3d"
           }
          ],
          "parcoords": [
           {
            "line": {
             "colorbar": {
              "outlinewidth": 0,
              "ticks": ""
             }
            },
            "type": "parcoords"
           }
          ],
          "pie": [
           {
            "automargin": true,
            "type": "pie"
           }
          ],
          "scatter": [
           {
            "fillpattern": {
             "fillmode": "overlay",
             "size": 10,
             "solidity": 0.2
            },
            "type": "scatter"
           }
          ],
          "scatter3d": [
           {
            "line": {
             "colorbar": {
              "outlinewidth": 0,
              "ticks": ""
             }
            },
            "marker": {
             "colorbar": {
              "outlinewidth": 0,
              "ticks": ""
             }
            },
            "type": "scatter3d"
           }
          ],
          "scattercarpet": [
           {
            "marker": {
             "colorbar": {
              "outlinewidth": 0,
              "ticks": ""
             }
            },
            "type": "scattercarpet"
           }
          ],
          "scattergeo": [
           {
            "marker": {
             "colorbar": {
              "outlinewidth": 0,
              "ticks": ""
             }
            },
            "type": "scattergeo"
           }
          ],
          "scattergl": [
           {
            "marker": {
             "colorbar": {
              "outlinewidth": 0,
              "ticks": ""
             }
            },
            "type": "scattergl"
           }
          ],
          "scattermapbox": [
           {
            "marker": {
             "colorbar": {
              "outlinewidth": 0,
              "ticks": ""
             }
            },
            "type": "scattermapbox"
           }
          ],
          "scatterpolar": [
           {
            "marker": {
             "colorbar": {
              "outlinewidth": 0,
              "ticks": ""
             }
            },
            "type": "scatterpolar"
           }
          ],
          "scatterpolargl": [
           {
            "marker": {
             "colorbar": {
              "outlinewidth": 0,
              "ticks": ""
             }
            },
            "type": "scatterpolargl"
           }
          ],
          "scatterternary": [
           {
            "marker": {
             "colorbar": {
              "outlinewidth": 0,
              "ticks": ""
             }
            },
            "type": "scatterternary"
           }
          ],
          "surface": [
           {
            "colorbar": {
             "outlinewidth": 0,
             "ticks": ""
            },
            "colorscale": [
             [
              0,
              "#0d0887"
             ],
             [
              0.1111111111111111,
              "#46039f"
             ],
             [
              0.2222222222222222,
              "#7201a8"
             ],
             [
              0.3333333333333333,
              "#9c179e"
             ],
             [
              0.4444444444444444,
              "#bd3786"
             ],
             [
              0.5555555555555556,
              "#d8576b"
             ],
             [
              0.6666666666666666,
              "#ed7953"
             ],
             [
              0.7777777777777778,
              "#fb9f3a"
             ],
             [
              0.8888888888888888,
              "#fdca26"
             ],
             [
              1,
              "#f0f921"
             ]
            ],
            "type": "surface"
           }
          ],
          "table": [
           {
            "cells": {
             "fill": {
              "color": "#EBF0F8"
             },
             "line": {
              "color": "white"
             }
            },
            "header": {
             "fill": {
              "color": "#C8D4E3"
             },
             "line": {
              "color": "white"
             }
            },
            "type": "table"
           }
          ]
         },
         "layout": {
          "annotationdefaults": {
           "arrowcolor": "#2a3f5f",
           "arrowhead": 0,
           "arrowwidth": 1
          },
          "autotypenumbers": "strict",
          "coloraxis": {
           "colorbar": {
            "outlinewidth": 0,
            "ticks": ""
           }
          },
          "colorscale": {
           "diverging": [
            [
             0,
             "#8e0152"
            ],
            [
             0.1,
             "#c51b7d"
            ],
            [
             0.2,
             "#de77ae"
            ],
            [
             0.3,
             "#f1b6da"
            ],
            [
             0.4,
             "#fde0ef"
            ],
            [
             0.5,
             "#f7f7f7"
            ],
            [
             0.6,
             "#e6f5d0"
            ],
            [
             0.7,
             "#b8e186"
            ],
            [
             0.8,
             "#7fbc41"
            ],
            [
             0.9,
             "#4d9221"
            ],
            [
             1,
             "#276419"
            ]
           ],
           "sequential": [
            [
             0,
             "#0d0887"
            ],
            [
             0.1111111111111111,
             "#46039f"
            ],
            [
             0.2222222222222222,
             "#7201a8"
            ],
            [
             0.3333333333333333,
             "#9c179e"
            ],
            [
             0.4444444444444444,
             "#bd3786"
            ],
            [
             0.5555555555555556,
             "#d8576b"
            ],
            [
             0.6666666666666666,
             "#ed7953"
            ],
            [
             0.7777777777777778,
             "#fb9f3a"
            ],
            [
             0.8888888888888888,
             "#fdca26"
            ],
            [
             1,
             "#f0f921"
            ]
           ],
           "sequentialminus": [
            [
             0,
             "#0d0887"
            ],
            [
             0.1111111111111111,
             "#46039f"
            ],
            [
             0.2222222222222222,
             "#7201a8"
            ],
            [
             0.3333333333333333,
             "#9c179e"
            ],
            [
             0.4444444444444444,
             "#bd3786"
            ],
            [
             0.5555555555555556,
             "#d8576b"
            ],
            [
             0.6666666666666666,
             "#ed7953"
            ],
            [
             0.7777777777777778,
             "#fb9f3a"
            ],
            [
             0.8888888888888888,
             "#fdca26"
            ],
            [
             1,
             "#f0f921"
            ]
           ]
          },
          "colorway": [
           "#636efa",
           "#EF553B",
           "#00cc96",
           "#ab63fa",
           "#FFA15A",
           "#19d3f3",
           "#FF6692",
           "#B6E880",
           "#FF97FF",
           "#FECB52"
          ],
          "font": {
           "color": "#2a3f5f"
          },
          "geo": {
           "bgcolor": "white",
           "lakecolor": "white",
           "landcolor": "#E5ECF6",
           "showlakes": true,
           "showland": true,
           "subunitcolor": "white"
          },
          "hoverlabel": {
           "align": "left"
          },
          "hovermode": "closest",
          "mapbox": {
           "style": "light"
          },
          "paper_bgcolor": "white",
          "plot_bgcolor": "#E5ECF6",
          "polar": {
           "angularaxis": {
            "gridcolor": "white",
            "linecolor": "white",
            "ticks": ""
           },
           "bgcolor": "#E5ECF6",
           "radialaxis": {
            "gridcolor": "white",
            "linecolor": "white",
            "ticks": ""
           }
          },
          "scene": {
           "xaxis": {
            "backgroundcolor": "#E5ECF6",
            "gridcolor": "white",
            "gridwidth": 2,
            "linecolor": "white",
            "showbackground": true,
            "ticks": "",
            "zerolinecolor": "white"
           },
           "yaxis": {
            "backgroundcolor": "#E5ECF6",
            "gridcolor": "white",
            "gridwidth": 2,
            "linecolor": "white",
            "showbackground": true,
            "ticks": "",
            "zerolinecolor": "white"
           },
           "zaxis": {
            "backgroundcolor": "#E5ECF6",
            "gridcolor": "white",
            "gridwidth": 2,
            "linecolor": "white",
            "showbackground": true,
            "ticks": "",
            "zerolinecolor": "white"
           }
          },
          "shapedefaults": {
           "line": {
            "color": "#2a3f5f"
           }
          },
          "ternary": {
           "aaxis": {
            "gridcolor": "white",
            "linecolor": "white",
            "ticks": ""
           },
           "baxis": {
            "gridcolor": "white",
            "linecolor": "white",
            "ticks": ""
           },
           "bgcolor": "#E5ECF6",
           "caxis": {
            "gridcolor": "white",
            "linecolor": "white",
            "ticks": ""
           }
          },
          "title": {
           "x": 0.05
          },
          "xaxis": {
           "automargin": true,
           "gridcolor": "white",
           "linecolor": "white",
           "ticks": "",
           "title": {
            "standoff": 15
           },
           "zerolinecolor": "white",
           "zerolinewidth": 2
          },
          "yaxis": {
           "automargin": true,
           "gridcolor": "white",
           "linecolor": "white",
           "ticks": "",
           "title": {
            "standoff": 15
           },
           "zerolinecolor": "white",
           "zerolinewidth": 2
          }
         }
        },
        "title": {
         "text": "Training History"
        },
        "xaxis": {
         "anchor": "y",
         "domain": [
          0,
          1
         ],
         "title": {
          "text": "epoch"
         }
        },
        "yaxis": {
         "anchor": "x",
         "domain": [
          0,
          1
         ],
         "title": {
          "text": "test() score"
         }
        }
       }
      }
     },
     "metadata": {},
     "output_type": "display_data"
    }
   ],
   "source": [
    "#train the neural network!\n",
    "history = model.fit(dataset_training, \n",
    "                    validation_data=dataset_validation, \n",
    "                    epochs=20)\n",
    "\n",
    "#plot the model's progress\n",
    "fig = px.line(\n",
    "    history.history, y=['loss', 'val_loss'],\n",
    "    labels={'index': 'epoch', 'value': 'test() score'}, \n",
    "    title='Training History')\n",
    "fig"
   ]
  },
  {
   "cell_type": "code",
   "execution_count": 41,
   "metadata": {},
   "outputs": [
    {
     "name": "stdout",
     "output_type": "stream",
     "text": [
      "1/1 [==============================] - 0s 42ms/step\n",
      "1/1 [==============================] - 0s 15ms/step\n",
      "1/1 [==============================] - 0s 15ms/step\n",
      "1/1 [==============================] - 0s 17ms/step\n",
      "this should be close to 1 -> 0.9708329\n",
      "this should be close to 1 -> 0.9717755\n",
      "this should be close to 0 -> 0.0006714915\n",
      "this should be close to 0 -> 0.0064867763\n"
     ]
    }
   ],
   "source": [
    "#verify model on a known test case and 4 known times\n",
    "test_facility = 10085460\n",
    "test_times = ['2022-08-17 15:14:00','2022-08-23 12:00:00','2022-09-05 19:45:00','2022-07-01 02:03:00']\n",
    "df_460 = df[df.FACILITY_ID == test_facility].copy()\n",
    "facilityMean = df_460[\"pressure_osi\"].mean()\n",
    "facilitySTD = df_460[\"pressure_osi\"].std()\n",
    "\n",
    "preds = []\n",
    "for t in test_times:\n",
    "    time = pd.to_datetime(pd.Timestamp(t))\n",
    "    dfLocal = df_460[(df_460.timestamp > time-timedelta(days=1))&(df_460.timestamp < time+timedelta(days=1))]\n",
    "    localMean = dfLocal[\"pressure_osi\"].mean()\n",
    "    localSTD = dfLocal[\"pressure_osi\"].std()\n",
    "    \n",
    "    testInput = tf.constant([[facilityMean, facilitySTD, localMean, localSTD]])\n",
    "    preds.append(model.predict(testInput)[0][0].round(20))\n",
    "\n",
    "print(\"this should be close to 1 ->\", preds[0])\n",
    "print(\"this should be close to 1 ->\", preds[1])\n",
    "print(\"this should be close to 0 ->\", preds[2])\n",
    "print(\"this should be close to 0 ->\", preds[3])"
   ]
  },
  {
   "cell_type": "code",
   "execution_count": 42,
   "metadata": {},
   "outputs": [
    {
     "name": "stdout",
     "output_type": "stream",
     "text": [
      "INFO:tensorflow:Assets written to: models/model\\assets\n"
     ]
    }
   ],
   "source": [
    "#save the model to 'models/model'\n",
    "model.save(\"models/model\")"
   ]
  }
 ],
 "metadata": {
  "kernelspec": {
   "display_name": "base",
   "language": "python",
   "name": "python3"
  },
  "language_info": {
   "codemirror_mode": {
    "name": "ipython",
    "version": 3
   },
   "file_extension": ".py",
   "mimetype": "text/x-python",
   "name": "python",
   "nbconvert_exporter": "python",
   "pygments_lexer": "ipython3",
   "version": "3.9.13"
  },
  "orig_nbformat": 4
 },
 "nbformat": 4,
 "nbformat_minor": 2
}
